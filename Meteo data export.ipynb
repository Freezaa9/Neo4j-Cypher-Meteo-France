{
 "cells": [
  {
   "cell_type": "code",
   "execution_count": null,
   "metadata": {},
   "outputs": [],
   "source": []
  },
  {
   "cell_type": "code",
   "execution_count": null,
   "metadata": {},
   "outputs": [],
   "source": []
  },
  {
   "cell_type": "code",
   "execution_count": null,
   "metadata": {},
   "outputs": [],
   "source": []
  },
  {
   "cell_type": "code",
   "execution_count": null,
   "metadata": {},
   "outputs": [],
   "source": []
  },
  {
   "cell_type": "code",
   "execution_count": 1,
   "metadata": {},
   "outputs": [],
   "source": [
    "import pandas as pd\n",
    "from io import StringIO\n",
    "import requests\n"
   ]
  },
  {
   "cell_type": "code",
   "execution_count": 2,
   "metadata": {},
   "outputs": [
    {
     "ename": "FileNotFoundError",
     "evalue": "[Errno 2] No such file or directory: '/data/climat.199001.csv'",
     "output_type": "error",
     "traceback": [
      "\u001b[1;31m---------------------------------------------------------------------------\u001b[0m",
      "\u001b[1;31mFileNotFoundError\u001b[0m                         Traceback (most recent call last)",
      "\u001b[1;32m<ipython-input-2-cf4fd29d3f90>\u001b[0m in \u001b[0;36m<module>\u001b[1;34m\u001b[0m\n\u001b[0;32m     41\u001b[0m             \u001b[0mprint\u001b[0m\u001b[1;33m(\u001b[0m\u001b[0mstr_annee\u001b[0m\u001b[1;33m+\u001b[0m\u001b[1;34m\" \"\u001b[0m\u001b[1;33m+\u001b[0m\u001b[0mstr_mois\u001b[0m\u001b[1;33m)\u001b[0m\u001b[1;33m\u001b[0m\u001b[1;33m\u001b[0m\u001b[0m\n\u001b[0;32m     42\u001b[0m     \u001b[1;32mreturn\u001b[0m \u001b[0mpd\u001b[0m\u001b[1;33m.\u001b[0m\u001b[0mconcat\u001b[0m\u001b[1;33m(\u001b[0m\u001b[0mframes\u001b[0m\u001b[1;33m)\u001b[0m\u001b[1;33m\u001b[0m\u001b[1;33m\u001b[0m\u001b[0m\n\u001b[1;32m---> 43\u001b[1;33m \u001b[0mdf\u001b[0m \u001b[1;33m=\u001b[0m \u001b[0mmerge_download_all_data\u001b[0m\u001b[1;33m(\u001b[0m\u001b[1;33m)\u001b[0m\u001b[1;33m\u001b[0m\u001b[1;33m\u001b[0m\u001b[0m\n\u001b[0m\u001b[0;32m     44\u001b[0m \u001b[1;33m\u001b[0m\u001b[0m\n",
      "\u001b[1;32m<ipython-input-2-cf4fd29d3f90>\u001b[0m in \u001b[0;36mmerge_download_all_data\u001b[1;34m()\u001b[0m\n\u001b[0;32m     32\u001b[0m             \u001b[0murl\u001b[0m \u001b[1;33m=\u001b[0m \u001b[1;34m\"https://donneespubliques.meteofrance.fr/donnees_libres/Txt/Climat/climat.\"\u001b[0m\u001b[1;33m+\u001b[0m\u001b[0mstr_annee\u001b[0m\u001b[1;33m+\u001b[0m\u001b[0mstr_mois\u001b[0m\u001b[1;33m+\u001b[0m\u001b[1;34m\".csv.gz\"\u001b[0m\u001b[1;33m\u001b[0m\u001b[1;33m\u001b[0m\u001b[0m\n\u001b[0;32m     33\u001b[0m             \u001b[0mr\u001b[0m \u001b[1;33m=\u001b[0m \u001b[0mrequests\u001b[0m\u001b[1;33m.\u001b[0m\u001b[0mget\u001b[0m\u001b[1;33m(\u001b[0m\u001b[0murl\u001b[0m\u001b[1;33m,\u001b[0m \u001b[0mallow_redirects\u001b[0m\u001b[1;33m=\u001b[0m\u001b[1;32mTrue\u001b[0m\u001b[1;33m)\u001b[0m\u001b[1;33m\u001b[0m\u001b[1;33m\u001b[0m\u001b[0m\n\u001b[1;32m---> 34\u001b[1;33m             \u001b[0mopen\u001b[0m\u001b[1;33m(\u001b[0m\u001b[1;34m\"/data/climat.\"\u001b[0m\u001b[1;33m+\u001b[0m\u001b[0mstr_annee\u001b[0m\u001b[1;33m+\u001b[0m\u001b[0mstr_mois\u001b[0m\u001b[1;33m+\u001b[0m\u001b[1;34m\".csv\"\u001b[0m\u001b[1;33m,\u001b[0m \u001b[1;34m'wb'\u001b[0m\u001b[1;33m)\u001b[0m\u001b[1;33m.\u001b[0m\u001b[0mwrite\u001b[0m\u001b[1;33m(\u001b[0m\u001b[0mr\u001b[0m\u001b[1;33m.\u001b[0m\u001b[0mcontent\u001b[0m\u001b[1;33m)\u001b[0m\u001b[1;33m\u001b[0m\u001b[1;33m\u001b[0m\u001b[0m\n\u001b[0m\u001b[0;32m     35\u001b[0m             \u001b[1;31m#print(r.content)\u001b[0m\u001b[1;33m\u001b[0m\u001b[1;33m\u001b[0m\u001b[1;33m\u001b[0m\u001b[0m\n\u001b[0;32m     36\u001b[0m             \u001b[1;31m#print(type(r.content))\u001b[0m\u001b[1;33m\u001b[0m\u001b[1;33m\u001b[0m\u001b[1;33m\u001b[0m\u001b[0m\n",
      "\u001b[1;31mFileNotFoundError\u001b[0m: [Errno 2] No such file or directory: '/data/climat.199001.csv'"
     ]
    }
   ],
   "source": [
    "\n",
    "\n",
    "\n",
    "def download_all_data():\n",
    "    annee=1990\n",
    "    mois=1\n",
    "    year = range(1990,2020)\n",
    "    month = range(1,12)\n",
    "    for i in year:\n",
    "        for j in month:\n",
    "            str_annee = str(i)\n",
    "            str_mois = str(j)\n",
    "            if j<=9:\n",
    "                str_mois = \"0\"+str_mois\n",
    "            url = \"https://donneespubliques.meteofrance.fr/donnees_libres/Txt/Climat/climat.\"+str_annee+str_mois+\".csv.gz\"\n",
    "            r = requests.get(url, allow_redirects=True)\n",
    "            open(\"/data/climat.\"+str_annee+str_mois+\".csv\", 'wb').write(r.content)\n",
    "            #print(r.content)\n",
    "            print(str_annee+\" \"+str_mois)   \n",
    "        \n",
    "def merge_download_all_data():\n",
    "    #df = pd.DataFrame([\"NUM_POSTE\",\"DAT\",\"PSTATM\",\"PMERM\",\"TMMOY\",\"TMSIGMA\",\"TXMOY\",\"TNMOY\",\"TSVMOY\",\"RR\",\"NBJRR1\",\"INST\",\"NBPMER\",\"NBTM\",\"NBTX\",\"NBTSV\",\"NBRR\",\"NBINS\",\"NBJTX25\",\"NBJTX30\",\"NBJTX35\",\"NBJTX40\",\"NBJTX0\",\"NBJTN0\",\"NBJRR5\",\"NBJRR10\",\"NBJRR50\",\"NBJRR100\",\"NBJNEIG0\",\"NBJNEIG1\",\"NBJNEIG10\",\"NBJNEIG50\",\"NBJFF10\",\"NBJFF20\",\"NBJFF30\",\"NBJVISI50\",\"NBJVISI100\",\"NBJVISI1000\",\"TMXAB\",\"TMXDAT\",\"TMNAB\",\"TMNDAT\",\"TXAB\",\"TXDAT\",\"TNAB\",\"TNDAT\",\"RRAB\",\"RRDAT\",\"FXAB\",\"FXDAT\",\"NBORAGE\",\"NBGRELE\",\"HTX\",\"HTN\"])\n",
    "    frames = []\n",
    "    annee=1990\n",
    "    mois=1\n",
    "    year = range(1990,2020)\n",
    "    month = range(1,12)\n",
    "\n",
    "    for i in year:\n",
    "        for j in month:\n",
    "            str_annee = str(i)\n",
    "            str_mois = str(j)\n",
    "            if j<=9:\n",
    "                str_mois = \"0\"+str_mois\n",
    "            url = \"https://donneespubliques.meteofrance.fr/donnees_libres/Txt/Climat/climat.\"+str_annee+str_mois+\".csv.gz\"\n",
    "            r = requests.get(url, allow_redirects=True)\n",
    "            open(\"/data/climat.\"+str_annee+str_mois+\".csv\", 'wb').write(r.content)\n",
    "            #print(r.content)\n",
    "            #print(type(r.content))\n",
    "            s=str(r.content,'utf-8')\n",
    "            data = StringIO(s)\n",
    "            print(len(frames))\n",
    "            frames.append(pd.read_csv(data,header=0,sep=\";\"))#, error_bad_lines=False))\n",
    "            print(str_annee+\" \"+str_mois)\n",
    "    return pd.concat(frames)\n",
    "df = merge_download_all_data()        \n",
    "\n"
   ]
  },
  {
   "cell_type": "code",
   "execution_count": null,
   "metadata": {},
   "outputs": [],
   "source": [
    "df.head()"
   ]
  },
  {
   "cell_type": "code",
   "execution_count": null,
   "metadata": {},
   "outputs": [],
   "source": [
    "df.describe()"
   ]
  },
  {
   "cell_type": "code",
   "execution_count": null,
   "metadata": {},
   "outputs": [],
   "source": [
    "df"
   ]
  },
  {
   "cell_type": "code",
   "execution_count": null,
   "metadata": {},
   "outputs": [],
   "source": [
    "df['DAT']= pd.to_datetime(df['DAT'])"
   ]
  },
  {
   "cell_type": "code",
   "execution_count": null,
   "metadata": {},
   "outputs": [],
   "source": [
    "df['MOIS'] = pd.DatetimeIndex(df['DAT']).month"
   ]
  },
  {
   "cell_type": "code",
   "execution_count": null,
   "metadata": {},
   "outputs": [],
   "source": [
    "df['ANNEE'] = pd.DatetimeIndex(df['DAT']).year"
   ]
  },
  {
   "cell_type": "code",
   "execution_count": null,
   "metadata": {},
   "outputs": [],
   "source": [
    "df.head()"
   ]
  },
  {
   "cell_type": "code",
   "execution_count": null,
   "metadata": {},
   "outputs": [],
   "source": [
    "df.to_csv(r'data\\climat2019TO2020.csv', index = False)"
   ]
  },
  {
   "cell_type": "code",
   "execution_count": null,
   "metadata": {},
   "outputs": [],
   "source": [
    "df['NUM_POSTE'].unique"
   ]
  },
  {
   "cell_type": "code",
   "execution_count": null,
   "metadata": {},
   "outputs": [],
   "source": []
  }
 ],
 "metadata": {
  "kernelspec": {
   "display_name": "Python 3",
   "language": "python",
   "name": "python3"
  },
  "language_info": {
   "codemirror_mode": {
    "name": "ipython",
    "version": 3
   },
   "file_extension": ".py",
   "mimetype": "text/x-python",
   "name": "python",
   "nbconvert_exporter": "python",
   "pygments_lexer": "ipython3",
   "version": "3.8.5"
  }
 },
 "nbformat": 4,
 "nbformat_minor": 4
}
