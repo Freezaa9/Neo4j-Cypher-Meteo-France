{
 "cells": [
  {
   "cell_type": "code",
   "execution_count": null,
   "metadata": {},
   "outputs": [],
   "source": []
  },
  {
   "cell_type": "code",
   "execution_count": null,
   "metadata": {},
   "outputs": [],
   "source": []
  },
  {
   "cell_type": "code",
   "execution_count": 3,
   "metadata": {},
   "outputs": [
    {
     "name": "stdout",
     "output_type": "stream",
     "text": [
      "Collecting neo4j\n",
      "  Downloading neo4j-4.2.0.tar.gz (66 kB)\n",
      "Requirement already satisfied: pytz in c:\\users\\geoff\\anaconda3\\lib\\site-packages (from neo4j) (2020.1)\n",
      "Building wheels for collected packages: neo4j\n",
      "  Building wheel for neo4j (setup.py): started\n",
      "  Building wheel for neo4j (setup.py): finished with status 'done'\n",
      "  Created wheel for neo4j: filename=neo4j-4.2.0-py3-none-any.whl size=89361 sha256=727ff76def8fce1498f49cb0d0573d574753bf193ede785efb88af4f62e54095\n",
      "  Stored in directory: c:\\users\\geoff\\appdata\\local\\pip\\cache\\wheels\\75\\20\\f7\\ae699b796912b826645c8c866e4bacde87b07341b97d7024e2\n",
      "Successfully built neo4j\n",
      "Installing collected packages: neo4j\n",
      "Successfully installed neo4j-4.2.0\n"
     ]
    }
   ],
   "source": [
    "! pip install neo4j"
   ]
  },
  {
   "cell_type": "code",
   "execution_count": 17,
   "metadata": {},
   "outputs": [],
   "source": [
    "#from pypher import Pypher, __"
   ]
  },
  {
   "cell_type": "code",
   "execution_count": null,
   "metadata": {},
   "outputs": [],
   "source": []
  },
  {
   "cell_type": "code",
   "execution_count": 34,
   "metadata": {},
   "outputs": [
    {
     "name": "stdout",
     "output_type": "stream",
     "text": [
      "hello, world, from node 4560\n",
      "<Node id=241 labels=frozenset({'Ville'}) properties={'numer_sta': '07005', 'Latitude': '50.136000', 'Longitude': '1.834000', 'Nom': 'ABBEVILLE', 'Altitude': '69'}>\n",
      "<class 'neo4j.graph.Node'>\n"
     ]
    }
   ],
   "source": [
    "from neo4j import GraphDatabase\n",
    "\n",
    "class HelloWorldExample:\n",
    "\n",
    "    def __init__(self, uri, user, password):\n",
    "        self.driver = GraphDatabase.driver(uri, auth=(user, password))\n",
    "\n",
    "    def close(self):\n",
    "        self.driver.close()\n",
    "\n",
    "    def print_greeting(self, message):\n",
    "        with self.driver.session() as session:\n",
    "            greeting = session.write_transaction(self._create_and_return_greeting, message)\n",
    "            print(greeting)\n",
    "    def return_city(self, city):\n",
    "        with self.driver.session() as session:\n",
    "            greeting = session.write_transaction(self._return_city, city)\n",
    "            return greeting\n",
    "    @staticmethod\n",
    "    def _create_and_return_greeting(tx, message):\n",
    "        result = tx.run(\"CREATE (a:Greeting) \"\n",
    "                        \"SET a.message = $message \"\n",
    "                        \"RETURN a.message + ', from node ' + id(a)\", message=message)\n",
    "        return result.single()[0]\n",
    "    \n",
    "    @staticmethod\n",
    "    def _return_city(tx, city):\n",
    "        result = tx.run(\"match (v:Ville {Nom : $city})\"\n",
    "                        \" return (v)  \", city=city)\n",
    "        return result.single()#[0]\n",
    "\n",
    "if __name__ == \"__main__\":\n",
    "    greeter = HelloWorldExample(\"bolt://localhost:7687\", \"\", \"\") #Auth desactivate in neo4j.conf \n",
    "    #\"Disable the dbms.security.auth_enabled parameter by modifying the neo4j.conf file:\"\n",
    "    greeter.print_greeting(\"hello, world\")\n",
    "    res = greeter.return_city(\"ABBEVILLE\")\n",
    "    print(res[0])\n",
    "    print(type(res[0]))\n",
    "    greeter.close()"
   ]
  },
  {
   "cell_type": "code",
   "execution_count": null,
   "metadata": {},
   "outputs": [],
   "source": []
  },
  {
   "cell_type": "code",
   "execution_count": null,
   "metadata": {},
   "outputs": [],
   "source": []
  }
 ],
 "metadata": {
  "kernelspec": {
   "display_name": "Python 3",
   "language": "python",
   "name": "python3"
  },
  "language_info": {
   "codemirror_mode": {
    "name": "ipython",
    "version": 3
   },
   "file_extension": ".py",
   "mimetype": "text/x-python",
   "name": "python",
   "nbconvert_exporter": "python",
   "pygments_lexer": "ipython3",
   "version": "3.8.5"
  }
 },
 "nbformat": 4,
 "nbformat_minor": 4
}
